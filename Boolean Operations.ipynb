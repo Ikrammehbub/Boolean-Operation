{
 "cells": [
  {
   "cell_type": "code",
   "execution_count": 1,
   "id": "78bf067e",
   "metadata": {},
   "outputs": [
    {
     "name": "stdout",
     "output_type": "stream",
     "text": [
      "<class 'bool'>\n",
      "True\n",
      "False\n",
      "False\n",
      "False\n",
      "True\n",
      "True\n",
      "False\n",
      "False\n",
      "True\n"
     ]
    }
   ],
   "source": [
    "a = True          #assign true value t a\n",
    "b = False         #assign false value to b\n",
    "print(type(a))    # print type of a \n",
    "print (a and a)   # and condition return true if both are true\n",
    "print (a and b)   # return true if both a and b is true\n",
    "print (b and a)   # return true if both a and b is true\n",
    "print (b and a)   # return true if both a and b is true\n",
    "print ( a or b)   #or condition return true if any condition is true and return false if both conditions are false\n",
    "print ( a or b)   #or condition return true if any condition is true and return false if both conditions are false\n",
    "print ( b or b)   #or condition return true if any condition is true and return false if both conditions are false\n",
    "print (not a)     #reverse the result of condition\n",
    "print (a != b) "
   ]
  },
  {
   "cell_type": "code",
   "execution_count": 2,
   "id": "56f6477a",
   "metadata": {},
   "outputs": [],
   "source": [
    "a=\"true\"\n",
    "b=\"true\"\n",
    "c=\"false\""
   ]
  },
  {
   "cell_type": "code",
   "execution_count": 3,
   "id": "e08db9c3",
   "metadata": {},
   "outputs": [
    {
     "name": "stdout",
     "output_type": "stream",
     "text": [
      "<class 'str'>\n",
      "<class 'str'>\n",
      "<class 'str'>\n"
     ]
    }
   ],
   "source": [
    "print(type(a))\n",
    "print(type(b))\n",
    "print(type(c))"
   ]
  },
  {
   "cell_type": "code",
   "execution_count": 4,
   "id": "e4e0c064",
   "metadata": {},
   "outputs": [],
   "source": [
    "x1= a and b and c"
   ]
  },
  {
   "cell_type": "code",
   "execution_count": 5,
   "id": "2a57116d",
   "metadata": {},
   "outputs": [
    {
     "data": {
      "text/plain": [
       "'false'"
      ]
     },
     "execution_count": 5,
     "metadata": {},
     "output_type": "execute_result"
    }
   ],
   "source": [
    "x1"
   ]
  },
  {
   "cell_type": "code",
   "execution_count": 6,
   "id": "c2c62304",
   "metadata": {},
   "outputs": [],
   "source": [
    "x2= a and b or c"
   ]
  },
  {
   "cell_type": "code",
   "execution_count": 7,
   "id": "52b4b75f",
   "metadata": {},
   "outputs": [
    {
     "data": {
      "text/plain": [
       "'true'"
      ]
     },
     "execution_count": 7,
     "metadata": {},
     "output_type": "execute_result"
    }
   ],
   "source": [
    "x2"
   ]
  },
  {
   "cell_type": "code",
   "execution_count": 8,
   "id": "e21af0ad",
   "metadata": {},
   "outputs": [],
   "source": [
    "x3= a or b and c"
   ]
  },
  {
   "cell_type": "code",
   "execution_count": 9,
   "id": "ab6c16be",
   "metadata": {},
   "outputs": [
    {
     "data": {
      "text/plain": [
       "'true'"
      ]
     },
     "execution_count": 9,
     "metadata": {},
     "output_type": "execute_result"
    }
   ],
   "source": [
    "x3"
   ]
  },
  {
   "cell_type": "code",
   "execution_count": 10,
   "id": "dea7942c",
   "metadata": {},
   "outputs": [],
   "source": [
    "x4= a or b or c"
   ]
  },
  {
   "cell_type": "code",
   "execution_count": 11,
   "id": "ab6024a8",
   "metadata": {},
   "outputs": [
    {
     "data": {
      "text/plain": [
       "'true'"
      ]
     },
     "execution_count": 11,
     "metadata": {},
     "output_type": "execute_result"
    }
   ],
   "source": [
    "x4"
   ]
  },
  {
   "cell_type": "code",
   "execution_count": 12,
   "id": "9fa628a5",
   "metadata": {},
   "outputs": [
    {
     "data": {
      "text/plain": [
       "False"
      ]
     },
     "execution_count": 12,
     "metadata": {},
     "output_type": "execute_result"
    }
   ],
   "source": [
    "a!=b"
   ]
  },
  {
   "cell_type": "code",
   "execution_count": 13,
   "id": "6bacd56e",
   "metadata": {},
   "outputs": [
    {
     "data": {
      "text/plain": [
       "True"
      ]
     },
     "execution_count": 13,
     "metadata": {},
     "output_type": "execute_result"
    }
   ],
   "source": [
    "b!=c"
   ]
  },
  {
   "cell_type": "code",
   "execution_count": null,
   "id": "763ca4f3",
   "metadata": {},
   "outputs": [],
   "source": []
  }
 ],
 "metadata": {
  "kernelspec": {
   "display_name": "Python 3",
   "language": "python",
   "name": "python3"
  },
  "language_info": {
   "codemirror_mode": {
    "name": "ipython",
    "version": 3
   },
   "file_extension": ".py",
   "mimetype": "text/x-python",
   "name": "python",
   "nbconvert_exporter": "python",
   "pygments_lexer": "ipython3",
   "version": "3.8.8"
  }
 },
 "nbformat": 4,
 "nbformat_minor": 5
}
